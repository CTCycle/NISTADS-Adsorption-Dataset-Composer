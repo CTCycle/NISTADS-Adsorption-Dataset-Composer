{
 "cells": [
  {
   "cell_type": "code",
   "execution_count": null,
   "metadata": {},
   "outputs": [],
   "source": [
    "import os\n",
    "import sys\n",
    "import pandas as pd\n",
    "from IPython.display import display, HTML\n",
    "\n",
    "# setting warnings\n",
    "import warnings\n",
    "warnings.simplefilter(action='ignore', category = Warning)\n",
    "\n",
    "# add parent folder path to the namespace\n",
    "sys.path.append(os.path.dirname(os.getcwd()))\n",
    "\n",
    "# import modules and components\n",
    "from utils.data_assets import PreProcessing, DataValidation\n",
    "import utils.global_paths as globpt\n",
    "import configurations as cnf\n",
    "\n",
    "# specify relative paths from global paths and create subfolders\n",
    "mat_path = os.path.join(globpt.data_path, 'materials') \n",
    "exp_path = os.path.join(globpt.data_path, 'experiments') \n",
    "os.mkdir(mat_path) if not os.path.exists(mat_path) else None\n",
    "os.mkdir(exp_path) if not os.path.exists(exp_path) else None "
   ]
  },
  {
   "cell_type": "markdown",
   "metadata": {},
   "source": [
    "# Load and prepare data"
   ]
  },
  {
   "cell_type": "code",
   "execution_count": null,
   "metadata": {},
   "outputs": [],
   "source": [
    "filepath = os.path.join(mat_path, 'adsorbents_dataset.csv')  \n",
    "df_adsorbents = pd.read_csv(filepath, sep=';', encoding='utf-8')  \n",
    "filepath = os.path.join(mat_path, 'adsorbates_dataset.csv')  \n",
    "df_adsorbates = pd.read_csv(filepath, sep=';', encoding='utf-8')  \n",
    "filepath = os.path.join(exp_path, 'single_component_dataset.csv')  \n",
    "df_SCADS = pd.read_csv(filepath, sep=';', encoding='utf-8')\n",
    "filepath = os.path.join(exp_path, 'binary_mixture_dataset.csv')  \n",
    "df_BMADS = pd.read_csv(filepath, sep=';', encoding='utf-8')"
   ]
  },
  {
   "cell_type": "markdown",
   "metadata": {},
   "source": [
    "# 1. Data analysis"
   ]
  },
  {
   "cell_type": "markdown",
   "metadata": {},
   "source": [
    "BMADS dataset is not analyzed fully, as it is of less interest. Some general info on BMADS can be found here:"
   ]
  },
  {
   "cell_type": "code",
   "execution_count": null,
   "metadata": {},
   "outputs": [],
   "source": [
    "num_BMADS_experiments = df_BMADS['filename'].nunique()\n",
    "print('\\nBMADS dataset: binary mixture adsorption')\n",
    "print('-----------------------------------------------')\n",
    "print(f'Number of measurements: {df_BMADS.shape[0]}')\n",
    "print(f'Number of actual experiments: {num_BMADS_experiments}')\n",
    "print(f'Average measurements per experiment: {df_BMADS.shape[0]//num_BMADS_experiments}')"
   ]
  },
  {
   "cell_type": "markdown",
   "metadata": {},
   "source": [
    "## 1.1 Analyze experiments dataset\n",
    "\n",
    "SCADS dataset (single component adsorption) is analyzed and validate. The major aim is to provide a fully preprocessed dataset for machine learning. General info on the dataset are provided here:"
   ]
  },
  {
   "cell_type": "code",
   "execution_count": null,
   "metadata": {},
   "outputs": [],
   "source": [
    "preprocessor = PreProcessing()\n",
    "validator = DataValidation()\n",
    "valid_units = preprocessor.valid_units\n",
    "\n",
    "negative_press = df_SCADS[df_SCADS['pressure'] < 0].shape[0]\n",
    "negative_uptake = df_SCADS[df_SCADS['adsorbed_amount'] < 0].shape[0]\n",
    "negative_temp = df_SCADS[df_SCADS['temperature'] <= 0].shape[0]\n",
    "num_experiments = df_SCADS['filename'].nunique()\n",
    "\n",
    "print('\\nSCADS dataset: single component adsorption')\n",
    "print('-----------------------------------------------')\n",
    "print(f'Number of measurements: {df_SCADS.shape[0]}')\n",
    "print(f'Number of actual experiments: {num_experiments}')\n",
    "print(f'Average measurements per experiment: {df_SCADS.shape[0]//num_experiments}')\n",
    "print('-----------------------------------------------')\n",
    "print(f'Negative pressure measurements: {negative_press} ({negative_press/df_SCADS.shape[0] * 100:.2f}%)')\n",
    "print(f'Negative uptake measurements: {negative_uptake} ({negative_uptake/df_SCADS.shape[0] * 100:.2f}%)')\n",
    "print(f'Negative temperature measurements: {negative_uptake} ({negative_uptake/df_SCADS.shape[0] * 100:.2f}%)')\n",
    "print('-----------------------------------------------')\n",
    "print(f'Number of null values in dataset: \\n{df_SCADS.isnull().sum()}')\n"
   ]
  },
  {
   "cell_type": "markdown",
   "metadata": {},
   "source": [
    "Distribution of experiments by units"
   ]
  },
  {
   "cell_type": "code",
   "execution_count": null,
   "metadata": {},
   "outputs": [],
   "source": [
    "unique_P_units = df_SCADS['pressureUnits'].unique()\n",
    "num_unique_P_units = df_SCADS['pressureUnits'].nunique()\n",
    "unique_Q_units = df_SCADS['adsorptionUnits'].unique()\n",
    "num_unique_Q_units = df_SCADS['adsorptionUnits'].nunique()\n",
    "\n",
    "print(f'Number of unique pressure units: {num_unique_P_units}')\n",
    "print(f'Number of unique uptake units: {num_unique_Q_units}')\n",
    "print(f'List of valid uptake units: \\n{sorted([str(x) for x in valid_units])}\\n')\n",
    "\n",
    "# filter experiments leaving only valid uptake and pressure units, then convert \n",
    "# pressure and uptake to Pa (pressure) and mol/kg (uptake)\n",
    "# filter experiments by pressure and uptake units \n",
    "dataset = df_SCADS[df_SCADS[preprocessor.Q_unit_col].isin(preprocessor.valid_units)]\n",
    "print(f'Number of uptake valid units is {len(valid_units)} vs invalid units {num_unique_Q_units-len(valid_units)}')\n",
    "print(f'Number of measurements removed by sorting units: {df_SCADS.shape[0] - dataset.shape[0]}')\n",
    "print(f'Number of remaining measurements upon sorting units: {dataset.shape[0]}')"
   ]
  },
  {
   "cell_type": "markdown",
   "metadata": {},
   "source": [
    "Visualize distribution of adsorption units per measurements, with all units and only with valid units"
   ]
  },
  {
   "cell_type": "code",
   "execution_count": null,
   "metadata": {},
   "outputs": [],
   "source": [
    "validator = DataValidation()\n",
    "print('Dataset that has not undergone preprocessing\\n')\n",
    "validator.class_distribution(df_SCADS, 'adsorptionUnits', 'Distribution of experiments per adsorption units')\n",
    "print('Dataset that has been preprocessed')\n",
    "validator.class_distribution(dataset, 'adsorptionUnits', 'Distribution of experiments per valid adsorption units')"
   ]
  },
  {
   "cell_type": "markdown",
   "metadata": {},
   "source": [
    "## 1.2 Explore materials datasets"
   ]
  },
  {
   "cell_type": "code",
   "execution_count": null,
   "metadata": {},
   "outputs": [],
   "source": [
    "print(f'\\nNumber of adsorbents from adsorbent dataset: {df_adsorbents['name'].nunique()}')\n",
    "print(f'Number of adsorbates from adsorbates dataset: {df_adsorbates['name'].nunique()}')"
   ]
  }
 ],
 "metadata": {
  "kernelspec": {
   "display_name": "Aquarius",
   "language": "python",
   "name": "python3"
  },
  "language_info": {
   "codemirror_mode": {
    "name": "ipython",
    "version": 3
   },
   "file_extension": ".py",
   "mimetype": "text/x-python",
   "name": "python",
   "nbconvert_exporter": "python",
   "pygments_lexer": "ipython3",
   "version": "3.10.13"
  }
 },
 "nbformat": 4,
 "nbformat_minor": 2
}
