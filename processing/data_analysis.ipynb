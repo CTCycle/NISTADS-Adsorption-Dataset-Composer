{
 "cells": [
  {
   "cell_type": "code",
   "execution_count": 1,
   "metadata": {},
   "outputs": [],
   "source": [
    "import os\n",
    "import sys\n",
    "import pandas as pd\n",
    "from IPython.display import display, HTML\n",
    "\n",
    "# setting warnings\n",
    "import warnings\n",
    "warnings.simplefilter(action='ignore', category = Warning)\n",
    "\n",
    "# add parent folder path to the namespace\n",
    "sys.path.append(os.path.dirname(os.getcwd()))\n",
    "\n",
    "# import modules and components\n",
    "from utils.data_assets import PreProcessing\n",
    "import utils.global_paths as globpt\n",
    "import configurations as cnf\n",
    "\n",
    "# specify relative paths from global paths and create subfolders\n",
    "mat_path = os.path.join(globpt.data_path, 'materials') \n",
    "exp_path = os.path.join(globpt.data_path, 'experiments') \n",
    "os.mkdir(mat_path) if not os.path.exists(mat_path) else None\n",
    "os.mkdir(exp_path) if not os.path.exists(exp_path) else None "
   ]
  },
  {
   "cell_type": "markdown",
   "metadata": {},
   "source": [
    "### Load and prepare data"
   ]
  },
  {
   "cell_type": "code",
   "execution_count": 2,
   "metadata": {},
   "outputs": [],
   "source": [
    "filepath = os.path.join(mat_path, 'adsorbents_dataset.csv')  \n",
    "df_adsorbents = pd.read_csv(filepath, sep=';', encoding='utf-8')  \n",
    "filepath = os.path.join(mat_path, 'adsorbates_dataset.csv')  \n",
    "df_adsorbates = pd.read_csv(filepath, sep=';', encoding='utf-8')  \n",
    "filepath = os.path.join(exp_path, 'single_component_dataset.csv')  \n",
    "df_SCADS = pd.read_csv(filepath, sep=';', encoding='utf-8')\n",
    "filepath = os.path.join(exp_path, 'binary_mixture_dataset.csv')  \n",
    "df_BMADS = pd.read_csv(filepath, sep=';', encoding='utf-8')"
   ]
  },
  {
   "cell_type": "markdown",
   "metadata": {},
   "source": [
    "## 1. Data validation"
   ]
  },
  {
   "cell_type": "markdown",
   "metadata": {},
   "source": [
    "BMADS dataset is not analyzed fully, as it is of less interest. Some general info on BMADS can be found here:"
   ]
  },
  {
   "cell_type": "code",
   "execution_count": 4,
   "metadata": {},
   "outputs": [
    {
     "name": "stdout",
     "output_type": "stream",
     "text": [
      "\n",
      "BMADS dataset: binary mixture adsorption\n",
      "-----------------------------------------------\n",
      "Number of measurements: 20403\n",
      "Number of actual experiments: 2372\n",
      "Average measurements per experiment: 8\n"
     ]
    }
   ],
   "source": [
    "num_BMADS_experiments = df_BMADS['filename'].nunique()\n",
    "print('\\nBMADS dataset: binary mixture adsorption')\n",
    "print('-----------------------------------------------')\n",
    "print(f'Number of measurements: {df_BMADS.shape[0]}')\n",
    "print(f'Number of actual experiments: {num_BMADS_experiments}')\n",
    "print(f'Average measurements per experiment: {df_BMADS.shape[0]//num_BMADS_experiments}')"
   ]
  },
  {
   "cell_type": "markdown",
   "metadata": {},
   "source": [
    "### 1.1 Analyze raw dataset\n",
    "\n",
    "SCADS dataset (single component adsorption) is analyzed and validate. The major aim is to provide a fully preprocessed dataset for machine learning. THe information reported in this cell refer to the raw dataset"
   ]
  },
  {
   "cell_type": "code",
   "execution_count": 5,
   "metadata": {},
   "outputs": [
    {
     "name": "stdout",
     "output_type": "stream",
     "text": [
      "\n",
      "SCADS dataset: single component adsorption\n",
      "-----------------------------------------------\n",
      "Number of measurements: 610667\n",
      "Number of actual experiments: 28606\n",
      "Average measurements per experiment: 21\n",
      "\n",
      "Negative pressure measurements: 737 (0.12%)\n",
      "Negative uptake measurements: 1654 (0.27%)\n"
     ]
    }
   ],
   "source": [
    "preprocessor = PreProcessing()\n",
    "\n",
    "num_SCADS_experiments = df_SCADS['filename'].nunique()\n",
    "SCADS_negative_press = df_SCADS[df_SCADS['pressure'] < 0].shape[0]\n",
    "SCADS_negative_uptake = df_SCADS[df_SCADS['adsorbed_amount'] < 0].shape[0]\n",
    "\n",
    "print('\\nSCADS dataset: single component adsorption')\n",
    "print('-----------------------------------------------')\n",
    "print(f'Number of measurements: {df_SCADS.shape[0]}')\n",
    "print(f'Number of actual experiments: {num_SCADS_experiments}')\n",
    "print(f'Average measurements per experiment: {df_SCADS.shape[0]//num_SCADS_experiments}\\n')\n",
    "print(f'Negative pressure measurements: {SCADS_negative_press} ({SCADS_negative_press/df_SCADS.shape[0] * 100:.2f}%)')\n",
    "print(f'Negative uptake measurements: {SCADS_negative_uptake} ({SCADS_negative_uptake/df_SCADS.shape[0] * 100:.2f}%)')\n",
    "print(f'Negative uptake measurements: {SCADS_negative_uptake} ({SCADS_negative_uptake/df_SCADS.shape[0] * 100:.2f}%)')"
   ]
  },
  {
   "cell_type": "markdown",
   "metadata": {},
   "source": [
    "### 1.2 Preprocess SCADS dataset"
   ]
  },
  {
   "cell_type": "code",
   "execution_count": null,
   "metadata": {},
   "outputs": [],
   "source": [
    "# add molecular properties based on PUGCHEM API data\n",
    "print('Adding physicochemical properties from guest species dataset\\n')\n",
    "dataset = preprocessor.add_guest_properties(df_SCADS, df_adsorbates)\n",
    "dataset = dataset.dropna()"
   ]
  },
  {
   "cell_type": "code",
   "execution_count": null,
   "metadata": {},
   "outputs": [],
   "source": [
    "\n",
    "# filter experiments leaving only valid uptake and pressure units, then convert \n",
    "# pressure and uptake to Pa (pressure) and mol/kg (uptake)\n",
    "\n",
    "# filter experiments by pressure and uptake units \n",
    "dataset = dataset[dataset[preprocessor.Q_unit_col].isin(preprocessor.valid_units)]\n",
    "\n",
    "# convert pressures to Pascal\n",
    "dataset[preprocessor.P_col] = dataset.progress_apply(lambda x : preprocessor.pressure_converter(x[preprocessor.P_unit_col], \n",
    "                                                                                                x['pressure']), \n",
    "                                                                                                axis = 1)\n",
    "# convert uptakes to mol/g\n",
    "dataset[preprocessor.Q_col] = dataset.progress_apply(lambda x : preprocessor.uptake_converter(x[preprocessor.Q_unit_col], \n",
    "                                                                                              x['adsorbed_amount'], \n",
    "                                                                                              x['mol_weight']), \n",
    "                                                                                              axis = 1)\n",
    "\n",
    "# further filter the dataset to remove experiments which values are outside desired boundaries, \n",
    "# such as experiments with negative temperature, pressure and uptake values\n",
    "#------------------------------------------------------------------------------ \n",
    "dataset = dataset[dataset['temperature'].astype(int) > 0]\n",
    "dataset = dataset[dataset[preprocessor.P_col].astype(float).between(0.0, cnf.max_pressure)]\n",
    "dataset = dataset[dataset[preprocessor.Q_col].astype(float).between(0.0, cnf.max_uptake)]"
   ]
  },
  {
   "cell_type": "markdown",
   "metadata": {},
   "source": [
    "## 2. Data analysis"
   ]
  },
  {
   "cell_type": "markdown",
   "metadata": {},
   "source": [
    "### 1.1 Explore materials datasets"
   ]
  },
  {
   "cell_type": "code",
   "execution_count": null,
   "metadata": {},
   "outputs": [],
   "source": [
    "unique_adsorbents = df_adsorbents['name'].nunique()\n",
    "unique_adsorbates = df_adsorbates['name'].nunique()\n",
    "\n",
    "print(f'\\nNumber of adsorbents in dataset: {unique_adsorbents}')\n",
    "print(f'Number of adsorbates in dataset: {unique_adsorbates}')"
   ]
  },
  {
   "cell_type": "markdown",
   "metadata": {},
   "source": [
    "### 1.2 Explore experiments datasets"
   ]
  },
  {
   "cell_type": "code",
   "execution_count": null,
   "metadata": {},
   "outputs": [],
   "source": []
  }
 ],
 "metadata": {
  "kernelspec": {
   "display_name": "Aquarius",
   "language": "python",
   "name": "python3"
  },
  "language_info": {
   "codemirror_mode": {
    "name": "ipython",
    "version": 3
   },
   "file_extension": ".py",
   "mimetype": "text/x-python",
   "name": "python",
   "nbconvert_exporter": "python",
   "pygments_lexer": "ipython3",
   "version": "3.10.13"
  }
 },
 "nbformat": 4,
 "nbformat_minor": 2
}
