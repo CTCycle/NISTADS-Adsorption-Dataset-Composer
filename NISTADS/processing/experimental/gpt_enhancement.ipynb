{
 "cells": [
  {
   "cell_type": "code",
   "execution_count": null,
   "metadata": {},
   "outputs": [],
   "source": [
    "import os\n",
    "import pandas as pd\n",
    "\n",
    "# [SETTING WARNINGS]\n",
    "import warnings\n",
    "warnings.simplefilter(action='ignore', category = Warning)\n",
    "\n",
    "# [IMPORT CUSTOM MODULES]\n",
    "from NISTADS.commons.utils.NLP.gpt_models import GPT2Model\n",
    "from NISTADS.commons.constants import CONFIG, DATA_PATH, NLP_PATH\n",
    "from NISTADS.commons.logger import logger"
   ]
  },
  {
   "cell_type": "markdown",
   "metadata": {},
   "source": [
    "## Load and prepare data"
   ]
  },
  {
   "cell_type": "code",
   "execution_count": null,
   "metadata": {},
   "outputs": [],
   "source": [
    "filepath = os.path.join(DATA_PATH, 'hosts_dataset.csv')  \n",
    "df_host = pd.read_csv(filepath, sep=';', encoding='utf-8')  \n",
    "filepath = os.path.join(DATA_PATH, 'guests_dataset.csv')  \n",
    "df_guest = pd.read_csv(filepath, sep=';', encoding='utf-8')"
   ]
  },
  {
   "cell_type": "markdown",
   "metadata": {},
   "source": [
    "## GPT text mining\n",
    "\n",
    "This is a work in progress to deploy a new feature in the app. The idea is to use generative models to produce brief descriptions of chemicals and adsorbent materials within the SCADS dataset, and add them to a new dataset. For the time being, GPT2 is being used due to its unlimited free tier, albeit with poor results in terms of accuracy"
   ]
  },
  {
   "cell_type": "code",
   "execution_count": null,
   "metadata": {},
   "outputs": [],
   "source": [
    "gpt = GPT2Model(NLP_PATH)\n",
    "descriptions = []\n",
    "for x in df_host['name'].unique():\n",
    "    description = gpt.generative_descriptions(x)\n",
    "    descriptions.append(description) "
   ]
  }
 ],
 "metadata": {
  "kernelspec": {
   "display_name": "Aquarius",
   "language": "python",
   "name": "python3"
  },
  "language_info": {
   "codemirror_mode": {
    "name": "ipython",
    "version": 3
   },
   "file_extension": ".py",
   "mimetype": "text/x-python",
   "name": "python",
   "nbconvert_exporter": "python",
   "pygments_lexer": "ipython3",
   "version": "3.10.13"
  }
 },
 "nbformat": 4,
 "nbformat_minor": 2
}
