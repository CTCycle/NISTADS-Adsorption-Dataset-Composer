{
 "cells": [
  {
   "cell_type": "code",
   "execution_count": null,
   "metadata": {},
   "outputs": [],
   "source": [
    "import os\n",
    "import sys\n",
    "import pandas as pd\n",
    "\n",
    "# setting warnings\n",
    "import warnings\n",
    "warnings.simplefilter(action='ignore', category=Warning)\n",
    "\n",
    "# add parent folder path to the namespace\n",
    "sys.path.append(os.path.dirname(os.getcwd()))\n",
    "\n",
    "# import modules and components\n",
    "from utils.validation import DataValidation\n",
    "from config.pathfinder import DATA_EXP_PATH, DATA_MAT_PATH\n",
    "import config.configurations as cnf "
   ]
  },
  {
   "cell_type": "markdown",
   "metadata": {},
   "source": [
    "# Load and prepare data"
   ]
  },
  {
   "cell_type": "code",
   "execution_count": null,
   "metadata": {},
   "outputs": [],
   "source": [
    "filepath = os.path.join(DATA_MAT_PATH, 'adsorbents_dataset.csv')  \n",
    "df_adsorbents = pd.read_csv(filepath, sep=';', encoding='utf-8')  \n",
    "filepath = os.path.join(DATA_MAT_PATH, 'adsorbates_dataset.csv')  \n",
    "df_adsorbates = pd.read_csv(filepath, sep=';', encoding='utf-8')  \n",
    "filepath = os.path.join(DATA_EXP_PATH, 'single_component_dataset.csv')  \n",
    "df_SCADS = pd.read_csv(filepath, sep=';', encoding='utf-8')\n",
    "filepath = os.path.join(DATA_EXP_PATH, 'binary_mixture_dataset.csv')  \n",
    "df_BMADS = pd.read_csv(filepath, sep=';', encoding='utf-8')\n",
    "filepath = os.path.join(DATA_EXP_PATH, 'preprocessed_SC_dataset.csv')  \n",
    "df_processed_SCADS = pd.read_csv(filepath, sep=';', encoding='utf-8')\n",
    "\n",
    "# convert strings to float list\n",
    "df_processed_SCADS['pressure_in_Pascal'] = df_processed_SCADS['pressure_in_Pascal'].apply(lambda x : [float(s) for s in x.split()])\n",
    "df_processed_SCADS['uptake_in_mol_g'] = df_processed_SCADS['uptake_in_mol_g'].apply(lambda x : [float(s) for s in x.split()])"
   ]
  },
  {
   "cell_type": "markdown",
   "metadata": {},
   "source": [
    "# 1. BMADS data analysis"
   ]
  },
  {
   "cell_type": "markdown",
   "metadata": {},
   "source": [
    "BMADS dataset is not analyzed fully, as it is of less interest. Some general info on BMADS can be found here:"
   ]
  },
  {
   "cell_type": "code",
   "execution_count": null,
   "metadata": {},
   "outputs": [],
   "source": [
    "num_BMADS_experiments = df_BMADS['filename'].nunique()\n",
    "print('\\nBMADS dataset: binary mixture adsorption')\n",
    "print('-----------------------------------------------')\n",
    "print(f'Number of measurements: {df_BMADS.shape[0]}')\n",
    "print(f'Number of actual experiments: {num_BMADS_experiments}')\n",
    "print(f'Average measurements per experiment: {df_BMADS.shape[0]//num_BMADS_experiments}')"
   ]
  },
  {
   "cell_type": "markdown",
   "metadata": {},
   "source": [
    "# 2. SCADS data analysis"
   ]
  },
  {
   "cell_type": "markdown",
   "metadata": {},
   "source": [
    "SCADS dataset (single component adsorption) is analysed and validated. The raw dataset (each entry corresponds to a measurement) is briefly explored hereinafter"
   ]
  },
  {
   "cell_type": "code",
   "execution_count": null,
   "metadata": {},
   "outputs": [],
   "source": [
    "ads_col, sorb_col  = ['adsorbent_name'], ['adsorbates_name'] \n",
    "P_col, Q_col  = 'pressure_in_Pascal', 'uptake_in_mol_g'\n",
    "P_unit_col, Q_unit_col  = 'pressureUnits', 'adsorptionUnits' \n",
    "valid_units = ['mmol/g', 'mol/kg', 'mol/g', 'mmol/kg', 'mg/g', 'g/g', 'cm3(STP)/g',\n",
    "                'wt%', 'g Adsorbate / 100g Adsorbent', 'g/100g', 'ml(STP)/g']\n",
    "                            \n",
    "parameters = ['temperature', 'mol_weight', 'complexity', 'covalent_units', \n",
    "              'H_acceptors', 'H_donors', 'heavy_atoms']"
   ]
  },
  {
   "cell_type": "code",
   "execution_count": null,
   "metadata": {},
   "outputs": [],
   "source": [
    "validator = DataValidation()\n",
    "\n",
    "negative_press = df_SCADS[df_SCADS['pressure'] < 0].shape[0]\n",
    "negative_uptake = df_SCADS[df_SCADS['adsorbed_amount'] < 0].shape[0]\n",
    "negative_temp = df_SCADS[df_SCADS['temperature'] <= 0].shape[0]\n",
    "num_experiments = df_SCADS['filename'].nunique()\n",
    "\n",
    "print('\\nSCADS dataset: single component adsorption')\n",
    "print('-----------------------------------------------')\n",
    "print(f'Number of measurements: {df_SCADS.shape[0]}')\n",
    "print(f'Number of actual experiments: {num_experiments}')\n",
    "print(f'Average measurements per experiment: {df_SCADS.shape[0]//num_experiments}')\n",
    "print('-----------------------------------------------')\n",
    "print(f'Negative pressure measurements: {negative_press} ({negative_press/df_SCADS.shape[0] * 100:.2f}%)')\n",
    "print(f'Negative uptake measurements: {negative_uptake} ({negative_uptake/df_SCADS.shape[0] * 100:.2f}%)')\n",
    "print(f'Negative temperature measurements: {negative_uptake} ({negative_uptake/df_SCADS.shape[0] * 100:.2f}%)')\n",
    "print('-----------------------------------------------')\n",
    "print(f'Number of null values in dataset: \\n{df_SCADS.isnull().sum()}')"
   ]
  },
  {
   "cell_type": "markdown",
   "metadata": {},
   "source": [
    "## 2.1 Distribution of data"
   ]
  },
  {
   "cell_type": "markdown",
   "metadata": {},
   "source": [
    "### 2.1.1 Distribution of experimental units (adsorption and pressure)\n",
    "\n",
    "The distribution of units is considered for both the raw dataset and the preprocessed datasets. Beware that while the raw dataset has rows corresponding to single measurements, the preprocessed dataset has been grouped based on experiment name."
   ]
  },
  {
   "cell_type": "code",
   "execution_count": null,
   "metadata": {},
   "outputs": [],
   "source": [
    "unique_P_units = df_SCADS['pressureUnits'].unique()\n",
    "num_unique_P_units = df_SCADS['pressureUnits'].nunique()\n",
    "unique_Q_units = df_SCADS['adsorptionUnits'].unique()\n",
    "num_unique_Q_units = df_SCADS['adsorptionUnits'].nunique()\n",
    "\n",
    "print(f'Number of unique pressure units: {num_unique_P_units}')\n",
    "print(f'Number of unique uptake units: {num_unique_Q_units}')\n",
    "print(f'List of valid uptake units: \\n{sorted([str(x) for x in valid_units])}\\n')\n",
    "\n",
    "# filter experiments leaving only valid uptake and pressure units, then convert \n",
    "# pressure and uptake to Pa (pressure) and mol/kg (uptake)\n",
    "# filter experiments by pressure and uptake units \n",
    "dataset = df_SCADS[df_SCADS[Q_unit_col].isin(valid_units)]\n",
    "print(f'Number of uptake valid units is {len(valid_units)} vs invalid units {num_unique_Q_units-len(valid_units)}')\n",
    "print(f'Number of measurements removed by sorting units: {df_SCADS.shape[0] - dataset.shape[0]}')\n",
    "print(f'Number of remaining measurements upon sorting units: {dataset.shape[0]}')"
   ]
  },
  {
   "cell_type": "code",
   "execution_count": null,
   "metadata": {},
   "outputs": [],
   "source": [
    "# visualize distribution of adsorption units per measurements, with all units and only with valid units\n",
    "validator = DataValidation()\n",
    "print('\\nRaw dataset (each row corresponds to a measurement')\n",
    "validator.class_distribution(df_SCADS, 'adsorptionUnits', title='Adsorption units distribution',\n",
    "                             y_label='Value')"
   ]
  },
  {
   "cell_type": "markdown",
   "metadata": {},
   "source": [
    "### 2.1.2 Distribution of experimental properties"
   ]
  },
  {
   "cell_type": "code",
   "execution_count": null,
   "metadata": {},
   "outputs": [],
   "source": [
    "features = ['temperature', 'complexity', 'mol_weight', 'covalent_units', 'H_acceptors', 'H_donors', 'heavy_atoms']\n",
    "validator.features_boxplot(df_processed_SCADS, features, title='Adsorption units distribution')                           "
   ]
  },
  {
   "cell_type": "markdown",
   "metadata": {},
   "source": [
    "### 2.1.3 Distribution of pressure and uptake"
   ]
  },
  {
   "cell_type": "code",
   "execution_count": null,
   "metadata": {},
   "outputs": [],
   "source": [
    "SCADS_pressures = df_processed_SCADS['pressure_in_Pascal'].to_list()\n",
    "SCADS_uptakes = df_processed_SCADS['uptake_in_mol_g'].to_list()\n",
    "\n",
    "flat_pressures = [item for sublist in SCADS_pressures for item in sublist]\n",
    "flat_uptakes = [item for sublist in SCADS_uptakes for item in sublist]\n",
    "\n",
    "df_series = pd.DataFrame({'Pressure' : flat_pressures, 'Uptake' : flat_uptakes})\n",
    "validator.features_boxplot(df_series, 'Pressure', title='Pressure distribution',\n",
    "                             x_label='Pressure (Pa)')\n",
    "validator.features_boxplot(df_series, 'Uptake', title='Uptake distribution',\n",
    "                            x_label='uptake (mol/g)')"
   ]
  },
  {
   "cell_type": "markdown",
   "metadata": {},
   "source": [
    "## 2.2 Relationship between variables\n",
    "\n",
    "Relationship between variables is explored in this section. At this stage, the scatter plot of uptake and pressure points is shown"
   ]
  },
  {
   "cell_type": "code",
   "execution_count": null,
   "metadata": {},
   "outputs": [],
   "source": [
    "validator.features_scatterplot(df_series, df_series.columns, title='Pressure versus Uptake',\n",
    "                               x_label='Pressure (Pa)', y_label='Uptake (mol/g)')"
   ]
  },
  {
   "cell_type": "markdown",
   "metadata": {},
   "source": [
    "### 2.2.2 Density-based scan clustering \n",
    "\n",
    "Use DBSCAN clustering to generate a cluster scatter plot of various features. In this section, clustering is performed between pressure (in Pa) and uptake (in mol/g)"
   ]
  },
  {
   "cell_type": "code",
   "execution_count": null,
   "metadata": {},
   "outputs": [],
   "source": [
    "validator.DBSCAN_clustering(df_series, min_samples=5, title='DBSCAN clustering Pressure versus Uptake',\n",
    "                            x_label='Pressure (Pa)', y_label='Uptake (mol/g)')"
   ]
  },
  {
   "cell_type": "markdown",
   "metadata": {},
   "source": [
    "## 2.3 Explore materials datasets"
   ]
  },
  {
   "cell_type": "code",
   "execution_count": null,
   "metadata": {},
   "outputs": [],
   "source": [
    "print(f'\\nNumber of adsorbents from adsorbent dataset: {df_adsorbents[\"name\"].nunique()}')\n",
    "print(f'Number of adsorbates from adsorbates dataset: {df_adsorbates[\"name\"].nunique()}')"
   ]
  }
 ],
 "metadata": {
  "kernelspec": {
   "display_name": "Aquarius",
   "language": "python",
   "name": "python3"
  },
  "language_info": {
   "codemirror_mode": {
    "name": "ipython",
    "version": 3
   },
   "file_extension": ".py",
   "mimetype": "text/x-python",
   "name": "python",
   "nbconvert_exporter": "python",
   "pygments_lexer": "ipython3",
   "version": "3.10.13"
  }
 },
 "nbformat": 4,
 "nbformat_minor": 2
}
