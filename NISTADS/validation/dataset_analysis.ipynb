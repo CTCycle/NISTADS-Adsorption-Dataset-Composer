{
 "cells": [
  {
   "cell_type": "code",
   "execution_count": null,
   "metadata": {},
   "outputs": [],
   "source": [
    "import os\n",
    "import pandas as pd\n",
    "\n",
    "# setting warnings\n",
    "import warnings\n",
    "warnings.simplefilter(action='ignore', category=Warning)\n",
    "\n",
    "# import modules and components\n",
    "from NISTADS.commons.utils.validation import DataValidation\n",
    "from NISTADS.commons.constants import CONFIG, DATA_PATH, DATA_PATH\n",
    "from NISTADS.commons.logger import logger"
   ]
  },
  {
   "cell_type": "markdown",
   "metadata": {},
   "source": [
    "# Load and prepare data"
   ]
  },
  {
   "cell_type": "code",
   "execution_count": null,
   "metadata": {},
   "outputs": [],
   "source": [
    "filepath = os.path.join(DATA_PATH, 'hosts_dataset.csv')  \n",
    "df_host = pd.read_csv(filepath, sep=';', encoding='utf-8')  \n",
    "filepath = os.path.join(DATA_PATH, 'guests_dataset.csv')  \n",
    "df_guest = pd.read_csv(filepath, sep=';', encoding='utf-8')  \n",
    "filepath = os.path.join(DATA_PATH, 'single_component_adsorption.csv')  \n",
    "single_component = pd.read_csv(filepath, sep=';', encoding='utf-8')\n",
    "filepath = os.path.join(DATA_PATH, 'binary_mixture_adsorption.csv')  \n",
    "binary_mixture = pd.read_csv(filepath, sep=';', encoding='utf-8')"
   ]
  },
  {
   "cell_type": "markdown",
   "metadata": {},
   "source": [
    "# 1. Binary Mixture (BMADS) data analysis"
   ]
  },
  {
   "cell_type": "markdown",
   "metadata": {},
   "source": [
    "BMADS dataset is not analyzed fully, as it is of less interest. Some general info on BMADS can be found here:"
   ]
  },
  {
   "cell_type": "code",
   "execution_count": null,
   "metadata": {},
   "outputs": [],
   "source": [
    "num_BMADS_experiments = binary_mixture['filename'].nunique()\n",
    "print(f'Number of measurements: {binary_mixture.shape[0]}')\n",
    "print(f'Number of actual experiments: {num_BMADS_experiments}')\n",
    "print(f'Average measurements per experiment: {binary_mixture.shape[0]//num_BMADS_experiments}')"
   ]
  },
  {
   "cell_type": "markdown",
   "metadata": {},
   "source": [
    "# 2. Single Component (SCADS) data analysis"
   ]
  },
  {
   "cell_type": "markdown",
   "metadata": {},
   "source": [
    "SCADS dataset (single component adsorption) is analysed and validated. The raw dataset (each entry corresponds to a measurement) is briefly explored hereinafter"
   ]
  },
  {
   "cell_type": "code",
   "execution_count": null,
   "metadata": {},
   "outputs": [],
   "source": [
    "ads_col, sorb_col  = ['adsorbent_name'], ['adsorbate_name'] \n",
    "P_col, Q_col  = 'pressure', 'uptake'\n",
    "P_unit_col, Q_unit_col  = 'pressureUnits', 'adsorptionUnits' \n",
    "valid_units = ['mmol/g', 'mol/kg', 'mol/g', 'mmol/kg', 'mg/g', 'g/g', 'cm3(STP)/g',\n",
    "                'wt%', 'g Adsorbate / 100g Adsorbent', 'g/100g', 'ml(STP)/g']\n",
    "                            \n",
    "parameters = ['temperature', 'mol_weight', 'complexity', 'covalent_units', \n",
    "              'H_acceptors', 'H_donors', 'heavy_atoms']"
   ]
  },
  {
   "cell_type": "code",
   "execution_count": null,
   "metadata": {},
   "outputs": [],
   "source": [
    "validator = DataValidation()\n",
    "\n",
    "negative_press = single_component[single_component['pressure'] < 0].shape[0]\n",
    "negative_uptake = single_component[single_component['adsorbed_amount'] < 0].shape[0]\n",
    "negative_temp = single_component[single_component['temperature'] <= 0].shape[0]\n",
    "num_experiments = single_component['filename'].nunique()\n",
    "\n",
    "print('\\nSCADS dataset: single component adsorption')\n",
    "print('-----------------------------------------------')\n",
    "print(f'Number of measurements: {single_component.shape[0]}')\n",
    "print(f'Number of actual experiments: {num_experiments}')\n",
    "print(f'Average measurements per experiment: {single_component.shape[0]//num_experiments}')\n",
    "print('-----------------------------------------------')\n",
    "print(f'Negative pressure measurements: {negative_press} ({negative_press/single_component.shape[0] * 100:.2f}%)')\n",
    "print(f'Negative uptake measurements: {negative_uptake} ({negative_uptake/single_component.shape[0] * 100:.2f}%)')\n",
    "print(f'Negative temperature measurements: {negative_uptake} ({negative_uptake/single_component.shape[0] * 100:.2f}%)')\n",
    "print('-----------------------------------------------')\n",
    "print(f'Number of null values in dataset: \\n{single_component.isnull().sum()}')"
   ]
  },
  {
   "cell_type": "markdown",
   "metadata": {},
   "source": [
    "## 2.1 Distribution of data"
   ]
  },
  {
   "cell_type": "markdown",
   "metadata": {},
   "source": [
    "### 2.1.1 Distribution of experimental units (adsorption and pressure)\n",
    "\n",
    "The distribution of units is considered for both the raw dataset and the preprocessed datasets. Beware that while the raw dataset has rows corresponding to single measurements, the preprocessed dataset has been grouped based on experiment name."
   ]
  },
  {
   "cell_type": "code",
   "execution_count": null,
   "metadata": {},
   "outputs": [],
   "source": [
    "unique_P_units = single_component['pressureUnits'].unique()\n",
    "num_unique_P_units = single_component['pressureUnits'].nunique()\n",
    "unique_Q_units = single_component['adsorptionUnits'].unique()\n",
    "num_unique_Q_units = single_component['adsorptionUnits'].nunique()\n",
    "\n",
    "print(f'Number of unique pressure units: {num_unique_P_units}')\n",
    "print(f'Number of unique uptake units: {num_unique_Q_units}')\n",
    "print(f'List of valid uptake units: \\n{sorted([str(x) for x in valid_units])}\\n')\n",
    "\n",
    "# filter experiments leaving only valid uptake and pressure units, then convert \n",
    "# pressure and uptake to Pa (pressure) and mol/kg (uptake)\n",
    "# filter experiments by pressure and uptake units \n",
    "dataset = single_component[single_component[Q_unit_col].isin(valid_units)]\n",
    "print(f'Number of uptake valid units is {len(valid_units)} vs invalid units {num_unique_Q_units-len(valid_units)}')\n",
    "print(f'Number of measurements removed by sorting units: {single_component.shape[0] - dataset.shape[0]}')\n",
    "print(f'Number of remaining measurements upon sorting units: {dataset.shape[0]}')"
   ]
  },
  {
   "cell_type": "code",
   "execution_count": null,
   "metadata": {},
   "outputs": [],
   "source": [
    "# visualize distribution of adsorption units per measurements, with all units and only with valid units\n",
    "validator = DataValidation()\n",
    "print('\\nRaw dataset (each row corresponds to a measurement')\n",
    "validator.class_distribution(single_component, 'adsorptionUnits', title='Adsorption units distribution', y_label='Value')"
   ]
  }
 ],
 "metadata": {
  "kernelspec": {
   "display_name": "Aquarius",
   "language": "python",
   "name": "python3"
  },
  "language_info": {
   "codemirror_mode": {
    "name": "ipython",
    "version": 3
   },
   "file_extension": ".py",
   "mimetype": "text/x-python",
   "name": "python",
   "nbconvert_exporter": "python",
   "pygments_lexer": "ipython3",
   "version": "3.10.14"
  }
 },
 "nbformat": 4,
 "nbformat_minor": 2
}
