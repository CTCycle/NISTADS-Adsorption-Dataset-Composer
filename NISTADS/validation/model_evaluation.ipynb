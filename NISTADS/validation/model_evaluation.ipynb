{
 "cells": [
  {
   "cell_type": "code",
   "execution_count": null,
   "metadata": {},
   "outputs": [],
   "source": [
    "# set Keras backend \n",
    "import os \n",
    "os.environ[\"KERAS_BACKEND\"] = \"torch\"\n",
    "\n",
    "# set warnings\n",
    "import warnings\n",
    "warnings.simplefilter(action='ignore', category=Warning)\n",
    "\n",
    "# import modules and components\n",
    "from FEXT.commons.utils.dataloader.generators import training_data_pipeline\n",
    "from FEXT.commons.utils.dataloader.serializer import DataSerializer, ModelSerializer\n",
    "from FEXT.commons.utils.models.inferencer import FeatureExtractor\n",
    "from FEXT.commons.utils.validation.model import ModelValidation\n",
    "from FEXT.commons.constants import CONFIG\n",
    "from FEXT.commons.logger import logger"
   ]
  },
  {
   "cell_type": "markdown",
   "metadata": {},
   "source": [
    "# 1. Load data and model"
   ]
  },
  {
   "cell_type": "code",
   "execution_count": null,
   "metadata": {},
   "outputs": [],
   "source": [
    "# selected and load the pretrained model, then print the summary \n",
    "modelserializer = ModelSerializer()         \n",
    "model, parameters = modelserializer.load_pretrained_model()\n",
    "model_folder = modelserializer.loaded_model_folder\n",
    "model.summary(expand_nested=True)\n",
    "\n",
    "# isolate the encoder from the autoencoder model, and use it for inference     \n",
    "extractor = FeatureExtractor(model)\n",
    "encoder_model = extractor.encoder_model"
   ]
  },
  {
   "cell_type": "markdown",
   "metadata": {},
   "source": [
    "### 1.1 Create generator and datasets"
   ]
  },
  {
   "cell_type": "code",
   "execution_count": null,
   "metadata": {},
   "outputs": [],
   "source": [
    "# extract paths\n",
    "dataserializer = DataSerializer()\n",
    "train_data, validation_data = dataserializer.load_preprocessed_data(model_folder)\n",
    "\n",
    "# initialize the TensorDataSet class with the generator instances\n",
    "# create the tf.datasets using the previously initialized generators    \n",
    "eval_batch_size = CONFIG[\"evaluation\"][\"BATCH_SIZE\"]\n",
    "train_dataset, validation_dataset = training_data_pipeline(train_data, validation_data, batch_size=eval_batch_size)"
   ]
  },
  {
   "cell_type": "markdown",
   "metadata": {},
   "source": [
    "# 2. Model performance evaluation"
   ]
  },
  {
   "cell_type": "markdown",
   "metadata": {},
   "source": [
    "### 2.1 Evaluation of loss and metrics"
   ]
  },
  {
   "cell_type": "code",
   "execution_count": null,
   "metadata": {},
   "outputs": [],
   "source": [
    "validator = ModelValidation(model)\n",
    "validator.evaluation_report(train_dataset, validation_dataset) "
   ]
  },
  {
   "cell_type": "markdown",
   "metadata": {},
   "source": [
    "### 2.2 Reconstruction evaluation\n",
    "\n",
    "Compare reconstructed images to original pictures to qualitatively evaluate the performance of the FeXT autoencoder model"
   ]
  },
  {
   "cell_type": "code",
   "execution_count": null,
   "metadata": {},
   "outputs": [],
   "source": [
    "# initialize the TensorDataSet class with the generator instances\n",
    "# create the tf.datasets using the previously initialized generators    \n",
    "train_dataset, validation_dataset = training_data_pipeline(train_data, validation_data, batch_size=10)\n",
    "\n",
    "\n",
    "# perform visual validation for the train dataset (initialize a validation tf.dataset\n",
    "# with batch size of 10 images)\n",
    "validator.visualize_reconstructed_images(train_dataset, 'visual_evaluation_train', model_folder)\n",
    "validator.visualize_reconstructed_images(validation_dataset, 'visual_evaluation_val', model_folder)"
   ]
  },
  {
   "cell_type": "markdown",
   "metadata": {},
   "source": [
    "Visualize the original image and the reconstructed images, together with the corresponding features vector. The raw vector has shape 4x4x512 and is reshaped to be 64x128"
   ]
  },
  {
   "cell_type": "code",
   "execution_count": null,
   "metadata": {},
   "outputs": [],
   "source": [
    "train_dataset, validation_dataset = training_data_pipeline(train_data, validation_data, batch_size=10)\n",
    "train_batch = train_dataset.take(1)\n",
    "\n",
    "# extract features vector\n",
    "recostructed_image = model.predict(train_batch, verbose=0) \n",
    "extracted_features = encoder_model.predict(train_batch, verbose=0)\n",
    "reshaped_features = extracted_features.reshape(64, 128)\n",
    "\n",
    "plot_name = 'visual_features_vector'\n",
    "for original_image, label in train_batch:\n",
    "    validator.visualize_features_vector(original_image, reshaped_features, recostructed_image, plot_name, model_folder)"
   ]
  }
 ],
 "metadata": {
  "kernelspec": {
   "display_name": "Aquarius",
   "language": "python",
   "name": "python3"
  },
  "language_info": {
   "codemirror_mode": {
    "name": "ipython",
    "version": 3
   },
   "file_extension": ".py",
   "mimetype": "text/x-python",
   "name": "python",
   "nbconvert_exporter": "python",
   "pygments_lexer": "ipython3",
   "version": "3.11.0"
  }
 },
 "nbformat": 4,
 "nbformat_minor": 2
}
