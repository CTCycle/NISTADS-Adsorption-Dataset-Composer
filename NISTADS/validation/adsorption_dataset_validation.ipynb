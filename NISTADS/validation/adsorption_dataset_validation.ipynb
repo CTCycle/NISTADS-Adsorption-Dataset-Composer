{
 "cells": [
  {
   "cell_type": "markdown",
   "metadata": {},
   "source": [
    "# Imports and paths"
   ]
  },
  {
   "cell_type": "code",
   "execution_count": null,
   "metadata": {},
   "outputs": [],
   "source": [
    "import pandas as pd\n",
    "\n",
    "# set warnings\n",
    "import warnings\n",
    "warnings.simplefilter(action='ignore', category=Warning)\n",
    "\n",
    "# import modules and components\n",
    "from NISTADS.commons.utils.dataloader.serializer import DataSerializer\n",
    "from NISTADS.commons.utils.validation.dataset import AdsorptionDataValidation\n",
    "from NISTADS.commons.constants import CONFIG, DATA_PATH"
   ]
  },
  {
   "cell_type": "markdown",
   "metadata": {},
   "source": [
    "## Load data"
   ]
  },
  {
   "cell_type": "code",
   "execution_count": null,
   "metadata": {},
   "outputs": [],
   "source": [
    "dataserializer = DataSerializer(CONFIG)\n",
    "adsorption_data, guest_data, host_data = dataserializer.load_datasets() \n",
    "print(f'{adsorption_data.shape[0]} measurements in the dataset')\n",
    "print(f'{guest_data.shape[0]} total guests (adsorbates species) in the dataset')\n",
    "print(f'{host_data.shape[0]} total hosts (adsorbent materials) in the dataset')\n",
    "\n",
    "# load data from csv, add paths to images \n",
    "dataserializer = DataSerializer(CONFIG)\n",
    "processed_data, metadata, smile_vocabulary, ads_vocabulary = dataserializer.load_preprocessed_data()    "
   ]
  },
  {
   "cell_type": "markdown",
   "metadata": {},
   "source": [
    "# Preprocessing"
   ]
  },
  {
   "cell_type": "markdown",
   "metadata": {},
   "source": [
    "## Data validation"
   ]
  },
  {
   "cell_type": "code",
   "execution_count": null,
   "metadata": {},
   "outputs": [],
   "source": []
  },
  {
   "cell_type": "code",
   "execution_count": null,
   "metadata": {},
   "outputs": [],
   "source": []
  },
  {
   "cell_type": "markdown",
   "metadata": {},
   "source": [
    "## Validation of dataset split"
   ]
  },
  {
   "cell_type": "code",
   "execution_count": null,
   "metadata": {},
   "outputs": [],
   "source": [
    "# validate splitting based on random seed\n",
    "print('\\nValidation best random seed for data splitting\\n')\n",
    "min_diff, best_seed, best_split = validator.data_split_validation(dataset, cnf.TEST_SIZE, 500)\n",
    "print(f'''\\nBest split found with split_seed of {best_seed}, with total difference equal to {round(min_diff, 3)}\n",
    "Mean and standard deviation differences per features (X and Y):''')\n",
    "for key, val in best_split.items():\n",
    "    print(f'{key} ---> mean difference = {val[0]}, STD difference = {val[1]}')"
   ]
  }
 ],
 "metadata": {
  "kernelspec": {
   "display_name": "Aquarius",
   "language": "python",
   "name": "python3"
  },
  "language_info": {
   "codemirror_mode": {
    "name": "ipython",
    "version": 3
   },
   "file_extension": ".py",
   "mimetype": "text/x-python",
   "name": "python",
   "nbconvert_exporter": "python",
   "pygments_lexer": "ipython3",
   "version": "3.10.13"
  }
 },
 "nbformat": 4,
 "nbformat_minor": 2
}
